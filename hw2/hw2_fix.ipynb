{
 "cells": [
  {
   "cell_type": "code",
   "execution_count": 46,
   "metadata": {
    "collapsed": true
   },
   "outputs": [],
   "source": [
    "import numpy as np\n",
    "import pandas as pd\n",
    "import seaborn as sns\n",
    "import matplotlib.pyplot as plt\n",
    "%matplotlib inline\n",
    "\n",
    "from sklearn.linear_model import LogisticRegression\n",
    "from sklearn.svm import SVC\n",
    "from sklearn.linear_model import Lasso\n",
    "from sklearn.linear_model import Ridge\n",
    "\n",
    "# Seaborn color palette\n",
    "cmap = sns.color_palette(\"Paired\", 10)\n",
    "sns.set_palette(cmap)"
   ]
  },
  {
   "cell_type": "code",
   "execution_count": 47,
   "metadata": {
    "collapsed": true
   },
   "outputs": [],
   "source": [
    "# Read in data\n",
    "train1 = pd.read_csv(\"supplementary_materials/data/wine_training1.txt\")\n",
    "train2 = pd.read_csv(\"supplementary_materials/data/wine_training2.txt\")\n",
    "test1 = pd.read_csv(\"supplementary_materials/data/wine_testing.txt\")\n",
    "test2 = pd.read_csv(\"supplementary_materials/data/wine_testing.txt\")"
   ]
  },
  {
   "cell_type": "code",
   "execution_count": 48,
   "metadata": {
    "collapsed": false
   },
   "outputs": [],
   "source": [
    "# Normalize\n",
    "train1_mean = train1.ix[:, 1:].mean()\n",
    "train2_mean = train2.ix[:, 1:].mean()\n",
    "train1_std = train1.ix[:, 1:].std()\n",
    "train2_std = train2.ix[:, 1:].std()\n",
    "train1.ix[:, 1:] = (train1.ix[:, 1:] - train1_mean) / (train1_std)\n",
    "train2.ix[:, 1:] = (train2.ix[:, 1:] - train2_mean) / (train2_std)\n",
    "test1.ix[:, 1:] = (test1.ix[:, 1:] - train1_mean) / (train1_std)\n",
    "test2.ix[:, 1:] = (test2.ix[:, 1:] - train2_mean) / (train2_std)\n",
    "\n",
    "# Add bias column\n",
    "train1.insert(1, 'x0', 1.0)\n",
    "train2.insert(1, 'x0', 1.0)\n",
    "test1.insert(1, 'x0', 1.0)\n",
    "test2.insert(1, 'x0', 1.0)"
   ]
  },
  {
   "cell_type": "code",
   "execution_count": 49,
   "metadata": {
    "collapsed": true
   },
   "outputs": [],
   "source": [
    "def l2_logistic_grad(x, y, w, lam, N):\n",
    "    return (2 * lam * w / N) - (y * x / (1 + np.exp(y * np.dot(w.T, x))))\n",
    "\n",
    "def l2_logistic_error(X, Y, w, lam):\n",
    "    assert len(X) == len(Y)\n",
    "    error_sum = 0\n",
    "    for i in range(len(X)):\n",
    "        error_sum += l2_logistic_error_helper(X[i], Y[i], w, lam)\n",
    "    return lam * np.dot(w.T, w) - error_sum\n",
    "\n",
    "def l2_logistic_error_helper(x, y, w, lam):\n",
    "    return np.log(1 / (1 + np.exp(-y * np.dot(w.T, x))))"
   ]
  },
  {
   "cell_type": "code",
   "execution_count": 94,
   "metadata": {
    "collapsed": false
   },
   "outputs": [],
   "source": [
    "def sgd(X, Y, reg_str, init_weights):\n",
    "    assert len(X) == len(Y)\n",
    "    weights = init_weights.copy()\n",
    "    #print(weights)\n",
    "    \n",
    "    ### First epoch ###\n",
    "    loss = l2_logistic_error(X, Y, weights, reg_str)\n",
    "    \n",
    "    for i in range(len(X)):\n",
    "        update = l2_logistic_grad(X[i], Y[i], weights, reg_str, len(X))\n",
    "        weights -= .01 * update\n",
    "    new_loss = l2_logistic_error(X, Y, weights, reg_str)\n",
    "    print('%f, %f' % (loss, new_loss))\n",
    "    ep1_loss_red = 1 - new_loss / loss\n",
    "    \n",
    "    ### Other epochs ###\n",
    "    loss_red = 1\n",
    "    while loss_red > .00001 * ep1_loss_red:\n",
    "        loss = new_loss\n",
    "        for i in range(len(X)):\n",
    "            update = l2_logistic_grad(X[i], Y[i], weights, reg_str, len(X))\n",
    "            weights -= .01 * update\n",
    "        new_loss = l2_logistic_error(X, Y, weights, reg_str)\n",
    "        loss_red = 1 - new_loss / loss\n",
    "    return weights"
   ]
  },
  {
   "cell_type": "code",
   "execution_count": 104,
   "metadata": {
    "collapsed": false
   },
   "outputs": [
    {
     "name": "stdout",
     "output_type": "stream",
     "text": [
      "****0.0001****\n",
      "[ -4.03105760e-05  -5.12456841e-03  -1.48859842e-02   9.17410567e-04\n",
      "  -2.98593025e-03  -8.10125286e-03  -1.30033945e-02   1.23014261e-03\n",
      "  -4.57071575e-03   2.03515576e-02  -1.88205525e-02   5.60065294e-03\n",
      "   1.15994199e-02  -2.04407337e-02]\n",
      "67.690354, 31.347853\n",
      "[-0.00281786 -0.00071022  0.00780959 -0.00427548 -0.00041334  0.00472228\n",
      "  0.01105452 -0.01667943 -0.00452143  0.00124122 -0.00476242 -0.02180931\n",
      " -0.00109545 -0.0038935 ]\n",
      "27.367389, 16.461377\n",
      "****0.0005****\n",
      "[ 0.00072346 -0.01270019 -0.02057064  0.00859891  0.00039703  0.0085965\n",
      "  0.00971157  0.00481205  0.01485702 -0.01063227 -0.0073156   0.00605875\n",
      "  0.01502226  0.01112576]\n",
      "69.732505, 31.773914\n",
      "[ 0.00161122  0.00428758  0.01432149 -0.02345076  0.00637074 -0.00063674\n",
      " -0.00697901  0.00451317 -0.00232433  0.00655882 -0.00076834  0.01993884\n",
      "  0.01354115 -0.00872804]\n",
      "27.587973, 16.542662\n",
      "****0.0025****\n",
      "[ 0.00250854 -0.01056086  0.0017142   0.0177225   0.0070872   0.01937724\n",
      " -0.01013217 -0.00922323  0.00037355  0.01028944 -0.00621212 -0.0141525\n",
      " -0.00135542 -0.00801114]\n",
      "68.268436, 31.529424\n",
      "[ 0.01549029 -0.01084613 -0.00695357 -0.01452998 -0.01215747  0.01031942\n",
      " -0.00548731 -0.00075937  0.00829889 -0.01173768  0.01560934  0.00342187\n",
      "  0.00525298 -0.00085481]\n",
      "27.913769, 16.688027\n",
      "****0.0125****\n",
      "[ 0.00595029 -0.00237275 -0.00447861 -0.00873939  0.0125287   0.00126508\n",
      " -0.00022855 -0.00116284 -0.02165293  0.02131339 -0.00088951 -0.01064799\n",
      " -0.01839955 -0.0115446 ]\n",
      "68.306797, 31.361170\n",
      "[ 0.00572466  0.01228135 -0.00999623  0.01717451 -0.0071576   0.00022173\n",
      " -0.00749596 -0.00873604  0.0036989   0.00583762 -0.00652643 -0.00619882\n",
      " -0.00295626 -0.01006398]\n",
      "27.666573, 16.616402\n",
      "****0.0625****\n",
      "[-0.01483314  0.01066622 -0.00292481 -0.00929524  0.00316302 -0.01019137\n",
      "  0.00139077 -0.00989406 -0.00736147 -0.00929286 -0.00047426  0.00138792\n",
      "  0.00830794  0.00643809]\n",
      "69.628169, 31.973801\n",
      "[ 0.00044877 -0.02534909  0.01226809 -0.00242935  0.00658678 -0.00146846\n",
      " -0.01049663 -0.00107584  0.00937143  0.00064482 -0.00384233 -0.00452639\n",
      "  0.00092162  0.00035191]\n",
      "26.780916, 16.225183\n",
      "****0.3125****\n",
      "[ 0.00854123 -0.01670082  0.0038074   0.02127856 -0.0029406   0.00142182\n",
      " -0.01406883  0.01834987 -0.00297789  0.01914967 -0.01302279 -0.00921403\n",
      "  0.0025401  -0.01482482]\n",
      "68.275253, 31.582269\n",
      "[ 0.00313782  0.00232957  0.00722099  0.00427973 -0.00242646  0.02354972\n",
      " -0.00409007  0.00080254  0.00032226  0.00546315  0.01040104  0.00490174\n",
      " -0.00611037 -0.00598965]\n",
      "28.108419, 16.810584\n",
      "****1.5625****\n",
      "[-0.00895913  0.01020738 -0.00863601 -0.00412545 -0.00562083  0.00596768\n",
      "  0.00371819  0.00118246 -0.02016266  0.0119475  -0.01216422 -0.00271818\n",
      "  0.0085893   0.01317858]\n",
      "70.826214, 32.797163\n",
      "[-0.00865357 -0.00183336  0.01097124 -0.00183196  0.00774252  0.01688246\n",
      " -0.00909395 -0.00270532 -0.0002965  -0.01515309  0.00112212  0.00210303\n",
      " -0.00630562  0.00448549]\n",
      "27.602968, 16.876204\n",
      "****7.8125****\n",
      "[ 0.00267078 -0.00437383 -0.00090861  0.01352519  0.00332073  0.01887048\n",
      " -0.01111491  0.00987707  0.00467829 -0.00124002  0.00110496  0.00954683\n",
      " -0.01046239 -0.01730007]\n",
      "68.820516, 35.725988\n",
      "[-0.0152892  -0.00798488 -0.00944421  0.01769648 -0.00354678 -0.00315777\n",
      " -0.0022063   0.01148253 -0.01222172  0.01096319  0.00550496 -0.00982009\n",
      " -0.01110754 -0.00827727]\n",
      "27.819752, 17.945444\n",
      "****39.0625****\n",
      "[ 0.00622819 -0.01189066 -0.01884964 -0.00772865 -0.01042138 -0.00469292\n",
      "  0.01234716  0.00506771 -0.00628623 -0.00505585  0.0016485  -0.00447334\n",
      "  0.01348489  0.00108182]\n",
      "69.751707, 46.494363\n",
      "[-0.00826802 -0.00905303  0.00153144  0.01500814  0.00287951  0.02309852\n",
      " -0.00844284 -0.00405518  0.00120496  0.0002595  -0.00947529 -0.00588732\n",
      " -0.00127584 -0.00201688]\n",
      "27.507226, 21.438492\n",
      "****195.3125****\n",
      "[-0.00804733 -0.01440425  0.00857582 -0.00307914  0.00734898  0.00928669\n",
      " -0.01924275  0.01108086 -0.00099981  0.01573757 -0.01967905 -0.00247959\n",
      " -0.00447341 -0.00649371]\n",
      "67.877463, 62.639483\n",
      "[ 0.00030451 -0.00869653  0.0049359  -0.00808004  0.01751066 -0.00464262\n",
      " -0.00336381  0.00295118  0.00572503 -0.01556551  0.01251217 -0.00382032\n",
      "  0.00779089 -0.00593814]\n",
      "27.381730, 26.069675\n",
      "****976.5625****\n",
      "[ 0.00352688  0.00644631 -0.00367782  0.00730302 -0.00214057  0.01165223\n",
      " -0.00217749 -0.00343573  0.00771707 -0.02028117  0.00681    -0.00783844\n",
      " -0.00645549  0.01762214]\n",
      "71.609062, 69.334000\n",
      "[ 0.00973533 -0.00294335 -0.01247116  0.00460397  0.00321807 -0.00739706\n",
      " -0.0012535   0.01776484  0.00145344  0.01395625  0.00407474  0.00735796\n",
      "  0.00257611  0.013023  ]\n",
      "29.325003, 27.563378\n"
     ]
    }
   ],
   "source": [
    "X1, X2, X1_test, X2_test = np.array(train1.ix[:, 1:]), np.array(train2.ix[:, 1:]), np.array(test1.ix[:, 1:]), np.array(test2.ix[:, 1:])\n",
    "Y1, Y2, Y1_test, Y2_test = np.array(train1.ix[:, 0]), np.array(train2.ix[:, 0]), np.array(test1.ix[:, 0]), np.array(test2.ix[:, 0])\n",
    "\n",
    "train1_weights = []\n",
    "train2_weights = []\n",
    "\n",
    "reg_strs = [0.0001]\n",
    "for i in range(10):\n",
    "    reg_strs.append(reg_strs[-1] * 5)\n",
    "    \n",
    "# Do SGD\n",
    "for reg_str in reg_strs:\n",
    "    print('****' + str(reg_str) + '****')\n",
    "    init_weights = np.random.normal(0, .01, 14)\n",
    "    train1_weights.append(sgd(X1, Y1, reg_str, init_weights))\n",
    "    init_weights = np.random.normal(0, .01, 14)\n",
    "    train2_weights.append(sgd(X2, Y2, reg_str, init_weights))"
   ]
  },
  {
   "cell_type": "code",
   "execution_count": 105,
   "metadata": {
    "collapsed": true
   },
   "outputs": [],
   "source": [
    "def logistic_error(X, Y, w):\n",
    "    assert len(X) == len(Y)\n",
    "    error_sum = 0\n",
    "    for i in range(len(X)):\n",
    "        error_sum += logistic_error_helper(X[i], Y[i], w)\n",
    "    return -1 * error_sum / len(X)\n",
    "\n",
    "def logistic_error_helper(x, y, w):\n",
    "    return np.log(1 / (1 + np.exp(-y * np.dot(w.T, x))))\n",
    "\n",
    "train1_train_errs = []\n",
    "train2_train_errs = []\n",
    "train1_test_errs = []\n",
    "train2_test_errs = []\n",
    "train1_w_norms = []\n",
    "train2_w_norms = []\n",
    "\n",
    "for i in range(len(reg_strs)):\n",
    "    w1 = train1_weights[i]\n",
    "    w2 = train2_weights[i]\n",
    "    \n",
    "    train1_train_errs.append(logistic_error(X1, Y1, w1))\n",
    "    train2_train_errs.append(logistic_error(X2, Y2, w2))\n",
    "    \n",
    "    train1_test_errs.append(logistic_error(X1_test, Y1_test, w1))\n",
    "    train2_test_errs.append(logistic_error(X2_test, Y2_test, w2))\n",
    "    \n",
    "    train1_w_norms.append(np.dot(w1.T, w1))\n",
    "    train2_w_norms.append(np.dot(w2.T, w2))"
   ]
  },
  {
   "cell_type": "code",
   "execution_count": 106,
   "metadata": {
    "collapsed": false
   },
   "outputs": [
    {
     "data": {
      "image/png": "[encoded data removed]",
      "text/plain": [
       "<matplotlib.figure.Figure at 0x10cc26668>"
      ]
     },
     "metadata": {},
     "output_type": "display_data"
    },
    {
     "data": {
      "image/png": "[encoded data removed]",
      "text/plain": [
       "<matplotlib.figure.Figure at 0x10c3ee860>"
      ]
     },
     "metadata": {},
     "output_type": "display_data"
    },
    {
     "data": {
      "image/png": "[encoded data removed]",
      "text/plain": [
       "<matplotlib.figure.Figure at 0x10cc24630>"
      ]
     },
     "metadata": {},
     "output_type": "display_data"
    }
   ],
   "source": [
    "plt.plot(reg_strs, train1_train_errs, 'b-', label='N = 100')\n",
    "plt.plot(reg_strs, train2_train_errs, 'r-', label='N = 40')\n",
    "plt.xlabel('Regularization Strength')\n",
    "plt.ylabel('Training Error')\n",
    "plt.title('Training Error vs Regularization Strength')\n",
    "plt.xscale('log')\n",
    "plt.legend(loc='best')\n",
    "plt.savefig(\"train_err_reg_str\")\n",
    "plt.show()\n",
    "\n",
    "plt.plot(reg_strs, train1_test_errs, 'b-', label='N = 100')\n",
    "plt.plot(reg_strs, train2_test_errs, 'r-', label='N = 40')\n",
    "plt.xlabel('Regularization Strength')\n",
    "plt.ylabel('Test Error')\n",
    "plt.title('Test Error vs Regularization Strength')\n",
    "plt.xscale('log')\n",
    "plt.legend(loc='best')\n",
    "plt.savefig(\"test_err_reg_str\")\n",
    "plt.show()\n",
    "\n",
    "plt.plot(reg_strs, train1_w_norms, 'b-', label='N = 100')\n",
    "plt.plot(reg_strs, train2_w_norms, 'r-', label='N = 40')\n",
    "plt.xlabel('Regularization Strength')\n",
    "plt.ylabel(r'$\\ell_2$ norm of $\\mathbf{w}$')\n",
    "plt.title('Weight Vector Norm vs Regularization Strength')\n",
    "plt.xscale('log')\n",
    "plt.legend(loc='best')\n",
    "axes = plt.gca()\n",
    "axes.set_ylim([0, 2])\n",
    "plt.savefig(\"weight_norms\")\n",
    "plt.show()"
   ]
  },
  {
   "cell_type": "code",
   "execution_count": 103,
   "metadata": {
    "collapsed": false
   },
   "outputs": [
    {
     "data": {
      "text/plain": [
       "[58.333127055184349,\n",
       " 43.404747979584435,\n",
       " 29.672798596607475,\n",
       " 18.365524189470577,\n",
       " 10.117060676475731,\n",
       " 4.8944212507014644,\n",
       " 2.0290607284342652,\n",
       " 0.62852287063773871,\n",
       " 0.11235400117893432,\n",
       " 0.011254565759445697,\n",
       " 0.00099765071782638632,\n",
       " 1.6793228174134102e+22,\n",
       " 1.5748488624001263e+165]"
      ]
     },
     "execution_count": 103,
     "metadata": {},
     "output_type": "execute_result"
    }
   ],
   "source": [
    "train2_w_norms"
   ]
  },
  {
   "cell_type": "code",
   "execution_count": null,
   "metadata": {
    "collapsed": true
   },
   "outputs": [],
   "source": []
  }
 ],
 "metadata": {
  "kernelspec": {
   "display_name": "Python 3",
   "language": "python",
   "name": "python3"
  },
  "language_info": {
   "codemirror_mode": {
    "name": "ipython",
    "version": 3
   },
   "file_extension": ".py",
   "mimetype": "text/x-python",
   "name": "python",
   "nbconvert_exporter": "python",
   "pygments_lexer": "ipython3",
   "version": "3.5.2"
  }
 },
 "nbformat": 4,
 "nbformat_minor": 0
}
